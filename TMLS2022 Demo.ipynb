{
 "cells": [
  {
   "cell_type": "markdown",
   "id": "e3821134",
   "metadata": {},
   "source": [
    "# NLP for Healthcare\n",
    "## Challenges with Processing and De-identifying Clinical Notes"
   ]
  },
  {
   "cell_type": "markdown",
   "id": "6dba3358",
   "metadata": {},
   "source": [
    "#### Chloe Pou-Prom, Data Scientist, Unity Health Toronto\n",
    "#### Vaakesan Sundrelingam, Data Scientist, Unity Health Toronto"
   ]
  },
  {
   "cell_type": "markdown",
   "id": "659e007e",
   "metadata": {},
   "source": [
    "This is a demonstration of `pydeid`, a Python-based de-identification software that identifies and replaces personal health information (PHI) in free-text clinical data.\n",
    "\n",
    "We also take a look at several deep-learning based named-entity recognition approaches, as well as some interesting and difficult cases."
   ]
  },
  {
   "cell_type": "markdown",
   "id": "1eb3c82c",
   "metadata": {},
   "source": [
    "### 1 Installing `pyDeid`"
   ]
  },
  {
   "cell_type": "markdown",
   "id": "efa57f8e",
   "metadata": {},
   "source": [
    "`pyDeid` will be released as an open-source Python package from the [GEMINI GitHub Respository](https://github.com/GEMINI-Medicine).\n",
    "\n",
    "Once the package is available, it can be downloaded (and unzipped), or cloned to a local folder `/path/to/package/` (for example). Once it is available locally at that path, it can be installed using either `pip3 install /path/to/local/copy` or calling `python3 setup.py install` from the top level directory. \n",
    "\n",
    "Please follow the package `README.md` for additional detils.\n",
    "\n",
    "To now import from this package, you may need to add the install location (found via `pip show pyDeid`) to your `$PYTHONPATH` so Python knows where to look for it (as shown below)."
   ]
  },
  {
   "cell_type": "code",
   "execution_count": 1,
   "id": "d5827355",
   "metadata": {},
   "outputs": [],
   "source": [
    "import sys\n",
    "sys.path.insert(0,'/path/from/pip/show/pyDeid')"
   ]
  },
  {
   "cell_type": "markdown",
   "id": "d49f2f1a",
   "metadata": {},
   "source": [
    "We can then import the relevant functions for this demo:"
   ]
  },
  {
   "cell_type": "code",
   "execution_count": 2,
   "id": "a9817243",
   "metadata": {},
   "outputs": [],
   "source": [
    "from pyDeid import pyDeid, deid_string, reid_string, display_deid\n",
    "import pandas as pd"
   ]
  },
  {
   "cell_type": "markdown",
   "id": "cdbef1aa",
   "metadata": {},
   "source": [
    "We will also import the following to perform some diagnostics:"
   ]
  },
  {
   "cell_type": "code",
   "execution_count": 3,
   "id": "36706edc",
   "metadata": {},
   "outputs": [],
   "source": [
    "import os\n",
    "import time"
   ]
  },
  {
   "cell_type": "markdown",
   "id": "257ca141",
   "metadata": {},
   "source": [
    "### 2 Getting Started"
   ]
  },
  {
   "cell_type": "markdown",
   "id": "5fc65813",
   "metadata": {},
   "source": [
    "We can get started with `pyDeid` right away, using a simple example. `pyDeid` provides functions to de-identify a single string, visualize the found PHI, and re-identify the same string."
   ]
  },
  {
   "cell_type": "code",
   "execution_count": 4,
   "id": "02b97bbe",
   "metadata": {},
   "outputs": [],
   "source": [
    "original_string = 'Elijah Wood (star of the Lord of the Rings) was born on January 28th, 1981.'\n",
    "phi, new_string = deid_string(original_string)"
   ]
  },
  {
   "cell_type": "markdown",
   "id": "5c1b64a2",
   "metadata": {},
   "source": [
    "The captured PHI is output from the function for inspection:"
   ]
  },
  {
   "cell_type": "code",
   "execution_count": 5,
   "id": "9df6bb24",
   "metadata": {},
   "outputs": [
    {
     "data": {
      "text/plain": [
       "[{'phi_start': 0,\n",
       "  'phi_end': 6,\n",
       "  'phi': 'Elijah',\n",
       "  'surrogate_start': 0,\n",
       "  'surrogate_end': 7,\n",
       "  'surrogate': 'Natalya',\n",
       "  'types': ['Male First Name (un)',\n",
       "   'Last Name (un)',\n",
       "   'First Name4 (NamePattern1)']},\n",
       " {'phi_start': 7,\n",
       "  'phi_end': 11,\n",
       "  'phi': 'Wood',\n",
       "  'surrogate_start': 8,\n",
       "  'surrogate_end': 16,\n",
       "  'surrogate': 'Kleekamp',\n",
       "  'types': ['Last Name (ambig)', 'Last Name (NamePattern1)']},\n",
       " {'phi_start': 56,\n",
       "  'phi_end': 74,\n",
       "  'phi': Date(date_string='January 28th, 1981', day='28', month='January', year='1981'),\n",
       "  'surrogate_start': 61,\n",
       "  'surrogate_end': 79,\n",
       "  'surrogate': '20th-February-1965',\n",
       "  'types': ['Month Day Year (2) [Month dd, yy(yy)]']}]"
      ]
     },
     "execution_count": 5,
     "metadata": {},
     "output_type": "execute_result"
    }
   ],
   "source": [
    "phi"
   ]
  },
  {
   "cell_type": "markdown",
   "id": "e313ff6d",
   "metadata": {},
   "source": [
    "We can visualize the found PHI with the `display_deid` function:"
   ]
  },
  {
   "cell_type": "code",
   "execution_count": 6,
   "id": "e1a70f6f",
   "metadata": {},
   "outputs": [
    {
     "data": {
      "text/html": [
       "<span class=\"tex2jax_ignore\"><div class=\"entities\" style=\"line-height: 2.5; direction: ltr\">\n",
       "<mark class=\"entity\" style=\"background: #ddd; padding: 0.45em 0.6em; margin: 0 0.25em; line-height: 1; border-radius: 0.35em;\">\n",
       "    Elijah\n",
       "    <span style=\"font-size: 0.8em; font-weight: bold; line-height: 1; border-radius: 0.35em; text-transform: uppercase; vertical-align: middle; margin-left: 0.5rem\">NAME</span>\n",
       "</mark>\n",
       " \n",
       "<mark class=\"entity\" style=\"background: #ddd; padding: 0.45em 0.6em; margin: 0 0.25em; line-height: 1; border-radius: 0.35em;\">\n",
       "    Wood\n",
       "    <span style=\"font-size: 0.8em; font-weight: bold; line-height: 1; border-radius: 0.35em; text-transform: uppercase; vertical-align: middle; margin-left: 0.5rem\">NAME</span>\n",
       "</mark>\n",
       " (star of the Lord of the Rings) was born on \n",
       "<mark class=\"entity\" style=\"background: #bfe1d9; padding: 0.45em 0.6em; margin: 0 0.25em; line-height: 1; border-radius: 0.35em;\">\n",
       "    January 28th, 1981\n",
       "    <span style=\"font-size: 0.8em; font-weight: bold; line-height: 1; border-radius: 0.35em; text-transform: uppercase; vertical-align: middle; margin-left: 0.5rem\">DATE</span>\n",
       "</mark>\n",
       ".</div></span>"
      ],
      "text/plain": [
       "<IPython.core.display.HTML object>"
      ]
     },
     "metadata": {},
     "output_type": "display_data"
    }
   ],
   "source": [
    "display_deid(original_string, phi)"
   ]
  },
  {
   "cell_type": "markdown",
   "id": "d4405f2c",
   "metadata": {},
   "source": [
    "The `deid_string` function outputs a new string with surrogates in place of the original PHI:"
   ]
  },
  {
   "cell_type": "code",
   "execution_count": 7,
   "id": "1680b04a",
   "metadata": {},
   "outputs": [
    {
     "data": {
      "text/plain": [
       "'Natalya Kleekamp (star of the Lord of the Rings) was born on 20th-February-1965.'"
      ]
     },
     "execution_count": 7,
     "metadata": {},
     "output_type": "execute_result"
    }
   ],
   "source": [
    "new_string"
   ]
  },
  {
   "cell_type": "markdown",
   "id": "63ab2cd5",
   "metadata": {},
   "source": [
    "Note that the format of the new date was randomized."
   ]
  },
  {
   "cell_type": "markdown",
   "id": "96ff3138",
   "metadata": {},
   "source": [
    "We can use this new string in combination with the found PHI output from `deid_string` to re-identify the string using `reid_string`:"
   ]
  },
  {
   "cell_type": "code",
   "execution_count": 8,
   "id": "cb2be3dd",
   "metadata": {},
   "outputs": [
    {
     "data": {
      "text/plain": [
       "'Elijah Wood (star of the Lord of the Rings) was born on January 28th, 1981.'"
      ]
     },
     "execution_count": 8,
     "metadata": {},
     "output_type": "execute_result"
    }
   ],
   "source": [
    "reid_string(new_string, phi)"
   ]
  },
  {
   "cell_type": "markdown",
   "id": "a450eb1e",
   "metadata": {},
   "source": [
    "The `{deid/reid}_string` functions are designed for demonstration and testing. In settings where it is required to de-identify free text in bulk, we provide the `pyDeid` function. We can use this function on a test `csv` that looks like the following:"
   ]
  },
  {
   "cell_type": "code",
   "execution_count": 9,
   "id": "1593bf06",
   "metadata": {},
   "outputs": [
    {
     "data": {
      "text/html": [
       "<div>\n",
       "<style scoped>\n",
       "    .dataframe tbody tr th:only-of-type {\n",
       "        vertical-align: middle;\n",
       "    }\n",
       "\n",
       "    .dataframe tbody tr th {\n",
       "        vertical-align: top;\n",
       "    }\n",
       "\n",
       "    .dataframe thead th {\n",
       "        text-align: right;\n",
       "    }\n",
       "</style>\n",
       "<table border=\"1\" class=\"dataframe\">\n",
       "  <thead>\n",
       "    <tr style=\"text-align: right;\">\n",
       "      <th></th>\n",
       "      <th>encounter_id</th>\n",
       "      <th>note_id</th>\n",
       "      <th>note_text</th>\n",
       "    </tr>\n",
       "  </thead>\n",
       "  <tbody>\n",
       "    <tr>\n",
       "      <th>0</th>\n",
       "      <td>1</td>\n",
       "      <td>Record 1</td>\n",
       "      <td>Elijah Wood (star of the Lord of the Rings) wa...</td>\n",
       "    </tr>\n",
       "    <tr>\n",
       "      <th>1</th>\n",
       "      <td>2</td>\n",
       "      <td>Record 1</td>\n",
       "      <td>This event is being held at 192 Spadina Ave, T...</td>\n",
       "    </tr>\n",
       "  </tbody>\n",
       "</table>\n",
       "</div>"
      ],
      "text/plain": [
       "   encounter_id   note_id                                          note_text\n",
       "0             1  Record 1  Elijah Wood (star of the Lord of the Rings) wa...\n",
       "1             2  Record 1  This event is being held at 192 Spadina Ave, T..."
      ]
     },
     "execution_count": 9,
     "metadata": {},
     "output_type": "execute_result"
    }
   ],
   "source": [
    "pd.read_csv(\"test.csv\")"
   ]
  },
  {
   "cell_type": "markdown",
   "id": "5a02db33",
   "metadata": {},
   "source": [
    "And the entire file can be de-identified as follows:"
   ]
  },
  {
   "cell_type": "code",
   "execution_count": 10,
   "id": "c66209ef",
   "metadata": {},
   "outputs": [
    {
     "name": "stderr",
     "output_type": "stream",
     "text": [
      "Processing encounter 2: : 2it [00:00,  6.82it/s]\n"
     ]
    },
    {
     "name": "stdout",
     "output_type": "stream",
     "text": [
      "Diagnostics:\n",
      "                - chars/s = 475.5608467408189\n",
      "                - s/note = 0.14719462394714355\n"
     ]
    }
   ],
   "source": [
    "pyDeid(\n",
    "    original_file = 'test.csv',\n",
    "    note_varname = 'note_text', \n",
    "    encounter_id_varname = 'encounter_id',\n",
    "    phi_output_file_type = 'json'\n",
    "    )"
   ]
  },
  {
   "cell_type": "markdown",
   "id": "fc4dcd67",
   "metadata": {},
   "source": [
    "`pyDeid` provides many additional options, as can be found in the function docstring:"
   ]
  },
  {
   "cell_type": "code",
   "execution_count": 11,
   "id": "58809ec2",
   "metadata": {},
   "outputs": [],
   "source": [
    "pyDeid?"
   ]
  },
  {
   "cell_type": "markdown",
   "id": "25834708",
   "metadata": {},
   "source": [
    "Some options to note are the ability to supply custom lists of doctor and patient names, the ability to define a custom regular expressions to scrub from the text, and the ability to optionally use a slower named-entity-recognition approach (which we will discuss in more detail later)."
   ]
  },
  {
   "cell_type": "markdown",
   "id": "c1a962f0",
   "metadata": {},
   "source": [
    "The simplest of these are the custom regular expressions. There are cases where a particular data source might have some unique pattern that should be replaced. This may be a unique identifier that is specific to a data source, such as in the following example:"
   ]
  },
  {
   "cell_type": "code",
   "execution_count": 12,
   "id": "ec63a731",
   "metadata": {},
   "outputs": [
    {
     "name": "stdout",
     "output_type": "stream",
     "text": [
      "Supplied custom regexes through **kwargs (see custom_regexes in docstring):\n",
      "\n",
      "- ID : TMLS\\d{6}\n",
      "\n",
      "These custom patterns will be replaced with <PHI>.\n",
      "\n"
     ]
    },
    {
     "data": {
      "text/html": [
       "<span class=\"tex2jax_ignore\"><div class=\"entities\" style=\"line-height: 2.5; direction: ltr\">Your unique identifier for today's event is \n",
       "<mark class=\"entity\" style=\"background: #ddd; padding: 0.45em 0.6em; margin: 0 0.25em; line-height: 1; border-radius: 0.35em;\">\n",
       "    TMLS123456\n",
       "    <span style=\"font-size: 0.8em; font-weight: bold; line-height: 1; border-radius: 0.35em; text-transform: uppercase; vertical-align: middle; margin-left: 0.5rem\">PHI</span>\n",
       "</mark>\n",
       ".</div></span>"
      ],
      "text/plain": [
       "<IPython.core.display.HTML object>"
      ]
     },
     "metadata": {},
     "output_type": "display_data"
    }
   ],
   "source": [
    "example1 = \"Your unique identifier for today's event is TMLS123456.\"\n",
    "\n",
    "example1_phi, _ = deid_string(example1, ID='TMLS\\d{6}')\n",
    "\n",
    "display_deid(example1, example1_phi)"
   ]
  },
  {
   "cell_type": "markdown",
   "id": "3500f9c1",
   "metadata": {},
   "source": [
    "In a similar vein, for some applications, the user may have access to a record of doctor and patient names associated with the clinical notes. When such lists are available, sensitivity/recall $\\big(\\frac{TP}{TP+FN}\\big)$ can be improved by passing a `Set` containing these names to `pyDeid`. \n",
    "\n",
    "We can demonstrate this below with `deid_string`. Without supplying these lists, certain names are difficult to recognize using the plain regex approach:"
   ]
  },
  {
   "cell_type": "code",
   "execution_count": 13,
   "id": "dc1a14f6",
   "metadata": {},
   "outputs": [
    {
     "data": {
      "text/html": [
       "<span class=\"tex2jax_ignore\"><div class=\"entities\" style=\"line-height: 2.5; direction: ltr\">Bilbo Baggins is a hobbit.</div></span>"
      ],
      "text/plain": [
       "<IPython.core.display.HTML object>"
      ]
     },
     "metadata": {},
     "output_type": "display_data"
    }
   ],
   "source": [
    "example2 = \"Bilbo Baggins is a hobbit.\"\n",
    "\n",
    "example2_phi, _ = deid_string(example1)\n",
    "\n",
    "display_deid(example2, example2_phi)"
   ]
  },
  {
   "cell_type": "markdown",
   "id": "22c0152e",
   "metadata": {},
   "source": [
    "However, by providing a custom list of patient or doctor names, we can do better:"
   ]
  },
  {
   "cell_type": "code",
   "execution_count": 14,
   "id": "d23ba9f4",
   "metadata": {},
   "outputs": [
    {
     "data": {
      "text/html": [
       "<span class=\"tex2jax_ignore\"><div class=\"entities\" style=\"line-height: 2.5; direction: ltr\">\n",
       "<mark class=\"entity\" style=\"background: #ddd; padding: 0.45em 0.6em; margin: 0 0.25em; line-height: 1; border-radius: 0.35em;\">\n",
       "    Bilbo\n",
       "    <span style=\"font-size: 0.8em; font-weight: bold; line-height: 1; border-radius: 0.35em; text-transform: uppercase; vertical-align: middle; margin-left: 0.5rem\">NAME</span>\n",
       "</mark>\n",
       " \n",
       "<mark class=\"entity\" style=\"background: #ddd; padding: 0.45em 0.6em; margin: 0 0.25em; line-height: 1; border-radius: 0.35em;\">\n",
       "    Baggins\n",
       "    <span style=\"font-size: 0.8em; font-weight: bold; line-height: 1; border-radius: 0.35em; text-transform: uppercase; vertical-align: middle; margin-left: 0.5rem\">NAME</span>\n",
       "</mark>\n",
       " is a hobbit.</div></span>"
      ],
      "text/plain": [
       "<IPython.core.display.HTML object>"
      ]
     },
     "metadata": {},
     "output_type": "display_data"
    }
   ],
   "source": [
    "example2_phi, _ = deid_string(\n",
    "    example2, \n",
    "    custom_patient_first_names={'Bilbo'},\n",
    "    custom_patient_last_names={'Baggins'}\n",
    ")\n",
    "\n",
    "display_deid(example2, example2_phi)"
   ]
  },
  {
   "cell_type": "markdown",
   "id": "e6b77d89",
   "metadata": {},
   "source": [
    "If we don't have access to a a list of patient or doctor names, we may still be able to do a better job than plain regex by using named entity recognition:"
   ]
  },
  {
   "cell_type": "code",
   "execution_count": 34,
   "id": "c3d06e77",
   "metadata": {},
   "outputs": [
    {
     "data": {
      "text/html": [
       "<span class=\"tex2jax_ignore\"><div class=\"entities\" style=\"line-height: 2.5; direction: ltr\">\n",
       "<mark class=\"entity\" style=\"background: #ddd; padding: 0.45em 0.6em; margin: 0 0.25em; line-height: 1; border-radius: 0.35em;\">\n",
       "    Bilbo\n",
       "    <span style=\"font-size: 0.8em; font-weight: bold; line-height: 1; border-radius: 0.35em; text-transform: uppercase; vertical-align: middle; margin-left: 0.5rem\">NAME</span>\n",
       "</mark>\n",
       " \n",
       "<mark class=\"entity\" style=\"background: #ddd; padding: 0.45em 0.6em; margin: 0 0.25em; line-height: 1; border-radius: 0.35em;\">\n",
       "    Baggins\n",
       "    <span style=\"font-size: 0.8em; font-weight: bold; line-height: 1; border-radius: 0.35em; text-transform: uppercase; vertical-align: middle; margin-left: 0.5rem\">NAME</span>\n",
       "</mark>\n",
       " is a hobbit.</div></span>"
      ],
      "text/plain": [
       "<IPython.core.display.HTML object>"
      ]
     },
     "metadata": {},
     "output_type": "display_data"
    }
   ],
   "source": [
    "example2_phi, _ = deid_string(\n",
    "    example2, \n",
    "    named_entity_recognition=True\n",
    ")\n",
    "\n",
    "display_deid(example2, example2_phi)"
   ]
  },
  {
   "cell_type": "markdown",
   "id": "1486a477",
   "metadata": {},
   "source": [
    "### 3 Other Approaches to Named Entity Recognition"
   ]
  },
  {
   "cell_type": "markdown",
   "id": "3b4e6180",
   "metadata": {},
   "source": [
    "Consider the case below where there is a name that is also an object. If we rely on a purely regex apporach, we will miss this PHI:"
   ]
  },
  {
   "cell_type": "code",
   "execution_count": 16,
   "id": "c7a8952e",
   "metadata": {},
   "outputs": [
    {
     "data": {
      "text/html": [
       "<span class=\"tex2jax_ignore\"><div class=\"entities\" style=\"line-height: 2.5; direction: ltr\">patient has to rely on walker to travel</div></span>"
      ],
      "text/plain": [
       "<IPython.core.display.HTML object>"
      ]
     },
     "metadata": {},
     "output_type": "display_data"
    }
   ],
   "source": [
    "example3 = \"patient has to rely on walker to travel\"\n",
    "\n",
    "example3_phi, _ = deid_string(example3)\n",
    "display_deid(example3, example3_phi)"
   ]
  },
  {
   "cell_type": "markdown",
   "id": "5e509712",
   "metadata": {},
   "source": [
    "The above case in somewhat ambiguous (it could be a grammar shortcut), however if we capitalize `Walker`, it becomes more clear (to a human) that this is potentially referring to a person:"
   ]
  },
  {
   "cell_type": "code",
   "execution_count": 17,
   "id": "7b3c8d49",
   "metadata": {},
   "outputs": [
    {
     "data": {
      "text/html": [
       "<span class=\"tex2jax_ignore\"><div class=\"entities\" style=\"line-height: 2.5; direction: ltr\">patient has to rely on Walker to travel</div></span>"
      ],
      "text/plain": [
       "<IPython.core.display.HTML object>"
      ]
     },
     "metadata": {},
     "output_type": "display_data"
    }
   ],
   "source": [
    "example4 = \"patient has to rely on Walker to travel\"\n",
    "\n",
    "example4_phi, _ = deid_string(example4)\n",
    "display_deid(example4, example4_phi)"
   ]
  },
  {
   "cell_type": "markdown",
   "id": "60be8476",
   "metadata": {},
   "source": [
    "Still with the regex-only approach, we fail to capture this. However, we can use the named entity recognition approach:"
   ]
  },
  {
   "cell_type": "code",
   "execution_count": 18,
   "id": "2af4ee0f",
   "metadata": {},
   "outputs": [
    {
     "data": {
      "text/html": [
       "<span class=\"tex2jax_ignore\"><div class=\"entities\" style=\"line-height: 2.5; direction: ltr\">patient has to rely on \n",
       "<mark class=\"entity\" style=\"background: #ddd; padding: 0.45em 0.6em; margin: 0 0.25em; line-height: 1; border-radius: 0.35em;\">\n",
       "    Walker\n",
       "    <span style=\"font-size: 0.8em; font-weight: bold; line-height: 1; border-radius: 0.35em; text-transform: uppercase; vertical-align: middle; margin-left: 0.5rem\">NAME</span>\n",
       "</mark>\n",
       " to travel</div></span>"
      ],
      "text/plain": [
       "<IPython.core.display.HTML object>"
      ]
     },
     "metadata": {},
     "output_type": "display_data"
    }
   ],
   "source": [
    "example4_phi, _ = deid_string(example4, named_entity_recognition=True)\n",
    "display_deid(example4, example4_phi)"
   ]
  },
  {
   "cell_type": "markdown",
   "id": "151e76f6",
   "metadata": {},
   "source": [
    "The named entity recognition model above uses `spaCy's` CNN-based NER model. However there are alternatives such as the BERT-based NER model from `huggingface`:"
   ]
  },
  {
   "cell_type": "code",
   "execution_count": null,
   "id": "bcd34080",
   "metadata": {},
   "outputs": [],
   "source": [
    "from transformers import AutoTokenizer, AutoModelForTokenClassification\n",
    "from transformers import pipeline\n",
    "os.environ[\"CURL_CA_BUNDLE\"]=\"\"\n",
    "\n",
    "tokenizer = AutoTokenizer.from_pretrained(\"dslim/bert-base-NER-uncased\")\n",
    "model = AutoModelForTokenClassification.from_pretrained(\"dslim/bert-base-NER-uncased\")\n",
    "\n",
    "bert_ner = pipeline(\"ner\", model=model, tokenizer=tokenizer)"
   ]
  },
  {
   "cell_type": "markdown",
   "id": "80d0ed2b",
   "metadata": {},
   "source": [
    "We define a function below to take the output of the BERT NER pipeline and display the output neatly:"
   ]
  },
  {
   "cell_type": "code",
   "execution_count": 20,
   "id": "85d1f226",
   "metadata": {},
   "outputs": [],
   "source": [
    "import spacy\n",
    "\n",
    "def display_ner(text, ner_result, title=None, ignore=None):\n",
    "    \"\"\"Visualize NER with the help of SpaCy\"\"\"\n",
    "    ents = []\n",
    "    for ent in ner_result:\n",
    "        if ent[\"entity\"] == ignore:\n",
    "            continue\n",
    "        e = {}\n",
    "        # add the start and end positions of the entity\n",
    "        e[\"start\"] = ent[\"start\"]\n",
    "        e[\"end\"] = ent[\"end\"]\n",
    "        \n",
    "        e[\"label\"] = ent[\"entity\"]\n",
    "        if ents and -1 <= ent[\"start\"] - ents[-1][\"end\"] <= 1 and e[\"label\"] == ents[-1][\"label\"]:\n",
    "            # if the current entity is shared with previous entity\n",
    "            # simply extend the entity end position instead of adding a new one\n",
    "            ents[-1][\"end\"] = e[\"end\"]\n",
    "            e[\"label\"] = e[\"label\"].split(\"-\")[1]\n",
    "            continue\n",
    "        ents.append(e)\n",
    "    # construct data required for displacy.render() method\n",
    "    render_data = [\n",
    "    {\n",
    "      \"text\": text,\n",
    "      \"ents\": ents,\n",
    "      \"title\": title,\n",
    "    }\n",
    "    ]\n",
    "    spacy.displacy.render(render_data, style=\"ent\", manual=True, jupyter=True)"
   ]
  },
  {
   "cell_type": "code",
   "execution_count": 21,
   "id": "735aaccd",
   "metadata": {},
   "outputs": [
    {
     "data": {
      "text/html": [
       "<span class=\"tex2jax_ignore\"><div class=\"entities\" style=\"line-height: 2.5; direction: ltr\">patient has to rely on walker to travel</div></span>"
      ],
      "text/plain": [
       "<IPython.core.display.HTML object>"
      ]
     },
     "metadata": {},
     "output_type": "display_data"
    }
   ],
   "source": [
    "display_ner(example3, bert_ner(example3))"
   ]
  },
  {
   "cell_type": "code",
   "execution_count": 22,
   "id": "3e41cdd6",
   "metadata": {},
   "outputs": [
    {
     "data": {
      "text/html": [
       "<span class=\"tex2jax_ignore\"><div class=\"entities\" style=\"line-height: 2.5; direction: ltr\">patient has to rely on Walker to travel</div></span>"
      ],
      "text/plain": [
       "<IPython.core.display.HTML object>"
      ]
     },
     "metadata": {},
     "output_type": "display_data"
    }
   ],
   "source": [
    "display_ner(example4, bert_ner(example4))"
   ]
  },
  {
   "cell_type": "markdown",
   "id": "06ad8be4",
   "metadata": {},
   "source": [
    "The BERT-based model appears to struggle with names that are not title-cased:"
   ]
  },
  {
   "cell_type": "code",
   "execution_count": 23,
   "id": "346b2b9b",
   "metadata": {},
   "outputs": [],
   "source": [
    "example5 = \"The Lord of the Rings was directed by Pter Jacksn\""
   ]
  },
  {
   "cell_type": "code",
   "execution_count": 24,
   "id": "6635a212",
   "metadata": {},
   "outputs": [
    {
     "data": {
      "text/html": [
       "<span class=\"tex2jax_ignore\"><div class=\"entities\" style=\"line-height: 2.5; direction: ltr\">\n",
       "<mark class=\"entity\" style=\"background: #ddd; padding: 0.45em 0.6em; margin: 0 0.25em; line-height: 1; border-radius: 0.35em;\">\n",
       "    The\n",
       "    <span style=\"font-size: 0.8em; font-weight: bold; line-height: 1; border-radius: 0.35em; text-transform: uppercase; vertical-align: middle; margin-left: 0.5rem\">B-MISC</span>\n",
       "</mark>\n",
       " \n",
       "<mark class=\"entity\" style=\"background: #ddd; padding: 0.45em 0.6em; margin: 0 0.25em; line-height: 1; border-radius: 0.35em;\">\n",
       "    Lord of the Rings\n",
       "    <span style=\"font-size: 0.8em; font-weight: bold; line-height: 1; border-radius: 0.35em; text-transform: uppercase; vertical-align: middle; margin-left: 0.5rem\">I-MISC</span>\n",
       "</mark>\n",
       " was directed by \n",
       "<mark class=\"entity\" style=\"background: #ddd; padding: 0.45em 0.6em; margin: 0 0.25em; line-height: 1; border-radius: 0.35em;\">\n",
       "    Pter\n",
       "    <span style=\"font-size: 0.8em; font-weight: bold; line-height: 1; border-radius: 0.35em; text-transform: uppercase; vertical-align: middle; margin-left: 0.5rem\">B-PER</span>\n",
       "</mark>\n",
       " \n",
       "<mark class=\"entity\" style=\"background: #ddd; padding: 0.45em 0.6em; margin: 0 0.25em; line-height: 1; border-radius: 0.35em;\">\n",
       "    Jacksn\n",
       "    <span style=\"font-size: 0.8em; font-weight: bold; line-height: 1; border-radius: 0.35em; text-transform: uppercase; vertical-align: middle; margin-left: 0.5rem\">I-PER</span>\n",
       "</mark>\n",
       "</div></span>"
      ],
      "text/plain": [
       "<IPython.core.display.HTML object>"
      ]
     },
     "metadata": {},
     "output_type": "display_data"
    }
   ],
   "source": [
    "display_ner(example5, bert_ner(example5))"
   ]
  },
  {
   "cell_type": "markdown",
   "id": "79c19aa8",
   "metadata": {},
   "source": [
    "But `spaCy's` (which is the same implementation used in `pyDeid`) NER model appears to handle lowercase names better:"
   ]
  },
  {
   "cell_type": "code",
   "execution_count": null,
   "id": "4d9cc3f9",
   "metadata": {},
   "outputs": [],
   "source": [
    "from spacy import displacy\n",
    "spacy_ner = spacy.load(\"en_core_web_sm\")"
   ]
  },
  {
   "cell_type": "code",
   "execution_count": 26,
   "id": "c92454b1",
   "metadata": {},
   "outputs": [
    {
     "data": {
      "text/html": [
       "<span class=\"tex2jax_ignore\"><div class=\"entities\" style=\"line-height: 2.5; direction: ltr\">The Lord of the Rings was directed by \n",
       "<mark class=\"entity\" style=\"background: #aa9cfc; padding: 0.45em 0.6em; margin: 0 0.25em; line-height: 1; border-radius: 0.35em;\">\n",
       "    Pter Jacksn\n",
       "    <span style=\"font-size: 0.8em; font-weight: bold; line-height: 1; border-radius: 0.35em; text-transform: uppercase; vertical-align: middle; margin-left: 0.5rem\">PERSON</span>\n",
       "</mark>\n",
       "</div></span>"
      ],
      "text/plain": [
       "<IPython.core.display.HTML object>"
      ]
     },
     "metadata": {},
     "output_type": "display_data"
    }
   ],
   "source": [
    "displacy.render(spacy_ner(example5), style=\"ent\")"
   ]
  },
  {
   "cell_type": "markdown",
   "id": "5ef4730e",
   "metadata": {},
   "source": [
    "`pyDeid's` regex-only approach will have difficulty handling lowercase names:"
   ]
  },
  {
   "cell_type": "code",
   "execution_count": 27,
   "id": "42be4d60",
   "metadata": {},
   "outputs": [
    {
     "data": {
      "text/html": [
       "<span class=\"tex2jax_ignore\"><div class=\"entities\" style=\"line-height: 2.5; direction: ltr\">The Lord of the Rings was directed by Pter Jacksn</div></span>"
      ],
      "text/plain": [
       "<IPython.core.display.HTML object>"
      ]
     },
     "metadata": {},
     "output_type": "display_data"
    }
   ],
   "source": [
    "example5_phi, _ = deid_string(example5, named_entity_recognition=False)\n",
    "display_deid(example5, example5_phi)"
   ]
  },
  {
   "cell_type": "markdown",
   "id": "eeebd976",
   "metadata": {},
   "source": [
    "There are still some issues with the CNN-based NER model, such as in the distinction between Organizations and Persons:"
   ]
  },
  {
   "cell_type": "code",
   "execution_count": 28,
   "id": "ce77cfa7",
   "metadata": {},
   "outputs": [],
   "source": [
    "example6 = \"Peregrin Took and Meriadoc Brandybuck are also hobbits\""
   ]
  },
  {
   "cell_type": "code",
   "execution_count": 29,
   "id": "9f75d6bd",
   "metadata": {},
   "outputs": [
    {
     "data": {
      "text/html": [
       "<span class=\"tex2jax_ignore\"><div class=\"entities\" style=\"line-height: 2.5; direction: ltr\">\n",
       "<mark class=\"entity\" style=\"background: #7aecec; padding: 0.45em 0.6em; margin: 0 0.25em; line-height: 1; border-radius: 0.35em;\">\n",
       "    Peregrin Took\n",
       "    <span style=\"font-size: 0.8em; font-weight: bold; line-height: 1; border-radius: 0.35em; text-transform: uppercase; vertical-align: middle; margin-left: 0.5rem\">ORG</span>\n",
       "</mark>\n",
       " and \n",
       "<mark class=\"entity\" style=\"background: #7aecec; padding: 0.45em 0.6em; margin: 0 0.25em; line-height: 1; border-radius: 0.35em;\">\n",
       "    Meriadoc Brandybuck\n",
       "    <span style=\"font-size: 0.8em; font-weight: bold; line-height: 1; border-radius: 0.35em; text-transform: uppercase; vertical-align: middle; margin-left: 0.5rem\">ORG</span>\n",
       "</mark>\n",
       " are also hobbits</div></span>"
      ],
      "text/plain": [
       "<IPython.core.display.HTML object>"
      ]
     },
     "metadata": {},
     "output_type": "display_data"
    }
   ],
   "source": [
    "displacy.render(spacy_ner(example6), style=\"ent\")"
   ]
  },
  {
   "cell_type": "markdown",
   "id": "2d042256",
   "metadata": {},
   "source": [
    "And similarly for the BERT-based NER model:"
   ]
  },
  {
   "cell_type": "code",
   "execution_count": 30,
   "id": "a01e1120",
   "metadata": {},
   "outputs": [
    {
     "data": {
      "text/html": [
       "<span class=\"tex2jax_ignore\"><div class=\"entities\" style=\"line-height: 2.5; direction: ltr\">\n",
       "<mark class=\"entity\" style=\"background: #ddd; padding: 0.45em 0.6em; margin: 0 0.25em; line-height: 1; border-radius: 0.35em;\">\n",
       "    Pere\n",
       "    <span style=\"font-size: 0.8em; font-weight: bold; line-height: 1; border-radius: 0.35em; text-transform: uppercase; vertical-align: middle; margin-left: 0.5rem\">B-PER</span>\n",
       "</mark>\n",
       "\n",
       "<mark class=\"entity\" style=\"background: #ddd; padding: 0.45em 0.6em; margin: 0 0.25em; line-height: 1; border-radius: 0.35em;\">\n",
       "    grin Took\n",
       "    <span style=\"font-size: 0.8em; font-weight: bold; line-height: 1; border-radius: 0.35em; text-transform: uppercase; vertical-align: middle; margin-left: 0.5rem\">I-PER</span>\n",
       "</mark>\n",
       " and \n",
       "<mark class=\"entity\" style=\"background: #ddd; padding: 0.45em 0.6em; margin: 0 0.25em; line-height: 1; border-radius: 0.35em;\">\n",
       "    Mer\n",
       "    <span style=\"font-size: 0.8em; font-weight: bold; line-height: 1; border-radius: 0.35em; text-transform: uppercase; vertical-align: middle; margin-left: 0.5rem\">B-PER</span>\n",
       "</mark>\n",
       "\n",
       "<mark class=\"entity\" style=\"background: #ddd; padding: 0.45em 0.6em; margin: 0 0.25em; line-height: 1; border-radius: 0.35em;\">\n",
       "    iadoc Brandybuck\n",
       "    <span style=\"font-size: 0.8em; font-weight: bold; line-height: 1; border-radius: 0.35em; text-transform: uppercase; vertical-align: middle; margin-left: 0.5rem\">I-PER</span>\n",
       "</mark>\n",
       " are also \n",
       "<mark class=\"entity\" style=\"background: #ddd; padding: 0.45em 0.6em; margin: 0 0.25em; line-height: 1; border-radius: 0.35em;\">\n",
       "    hobb\n",
       "    <span style=\"font-size: 0.8em; font-weight: bold; line-height: 1; border-radius: 0.35em; text-transform: uppercase; vertical-align: middle; margin-left: 0.5rem\">B-MISC</span>\n",
       "</mark>\n",
       "\n",
       "<mark class=\"entity\" style=\"background: #ddd; padding: 0.45em 0.6em; margin: 0 0.25em; line-height: 1; border-radius: 0.35em;\">\n",
       "    its\n",
       "    <span style=\"font-size: 0.8em; font-weight: bold; line-height: 1; border-radius: 0.35em; text-transform: uppercase; vertical-align: middle; margin-left: 0.5rem\">I-MISC</span>\n",
       "</mark>\n",
       "</div></span>"
      ],
      "text/plain": [
       "<IPython.core.display.HTML object>"
      ]
     },
     "metadata": {},
     "output_type": "display_data"
    }
   ],
   "source": [
    "display_ner(example6, bert_ner(example6))"
   ]
  },
  {
   "cell_type": "markdown",
   "id": "6efbd75f",
   "metadata": {},
   "source": [
    "### 4 Cases"
   ]
  },
  {
   "cell_type": "markdown",
   "id": "a8f6bbf2",
   "metadata": {},
   "source": [
    "Ensure that the same de-identification is applied to the same person:"
   ]
  },
  {
   "cell_type": "code",
   "execution_count": 31,
   "id": "712d5b93",
   "metadata": {},
   "outputs": [
    {
     "name": "stdout",
     "output_type": "stream",
     "text": [
      "The Lord of the Rings film trilogy was directed by Palma Kit. The screenplay was also written by Palma.\n"
     ]
    }
   ],
   "source": [
    "example7 = \"The Lord of the Rings film trilogy was directed by Pete Jackson. The screenplay was also written by Pete.\"\n",
    "\n",
    "example7_phi, example7_deid = deid_string(example7)\n",
    "print(example7_deid)"
   ]
  },
  {
   "cell_type": "markdown",
   "id": "1a2edbef",
   "metadata": {},
   "source": [
    "Ensure that surgery or domain-specific terminology does not generate false positives. This is done using a \"whitelist\" for your specific use-case."
   ]
  },
  {
   "cell_type": "code",
   "execution_count": 32,
   "id": "36e1036d",
   "metadata": {},
   "outputs": [
    {
     "name": "stdout",
     "output_type": "stream",
     "text": [
      "recommend Jackson-Pratt drain\n"
     ]
    }
   ],
   "source": [
    "example8 = \"recommend Jackson-Pratt drain\"\n",
    "example8_phi, example8_deid = deid_string(example8)\n",
    "\n",
    "print(example8_deid)"
   ]
  },
  {
   "cell_type": "markdown",
   "id": "41bcd729",
   "metadata": {},
   "source": [
    "Ensure that the time delta between dates is maintained:"
   ]
  },
  {
   "cell_type": "code",
   "execution_count": 33,
   "id": "4a6440c4",
   "metadata": {},
   "outputs": [
    {
     "name": "stdout",
     "output_type": "stream",
     "text": [
      "\n",
      "The Lord of the Rings trilogy was filmed in New Zealand for 438 days from 1972-13-07 through 1973/24/09.\n",
      "\n"
     ]
    }
   ],
   "source": [
    "example9 = \"\"\"\n",
    "The Lord of the Rings trilogy was filmed in New Zealand for 438 days from October 11, 1999 through December 22, 2000.\n",
    "\"\"\"\n",
    "\n",
    "example9_phi, example9_deid = deid_string(example9)\n",
    "print(example9_deid)"
   ]
  },
  {
   "cell_type": "markdown",
   "id": "666b579e",
   "metadata": {},
   "source": [
    "### 6 Resources"
   ]
  },
  {
   "cell_type": "markdown",
   "id": "caa96cf8",
   "metadata": {},
   "source": [
    "#### About the speakers\n",
    "\n",
    "* Unity Health Toronto: <https://unityhealth.to/>\n",
    "* DSAA: <https://unitynet.unity.local/departments-programs-services/corporate-services/data-science-and-advanced-analytics/>\n",
    "    * Blog: <https://lks-chart.github.io/blog/>\n",
    "* GEMINI: <https://www.geminimedicine.ca/>\n",
    "    * Download `pydeid`: [github.com/GEMINI-Medicine](github.com/GEMINI-Medicine)\n",
    "\n",
    "#### What can we do with clinical notes?\n",
    "\n",
    "* Yang, Zhen, Chloé Pou-Prom, Ashley Jones, Michaelia Banning, David Dai, Muhammad Mamdani, Jiwon Oh, and Tony Antoniou. 2022. \"Assessment of Natural Language Processing Methods for Ascertaining the Expanded Disability Status Scale Score From the Electronic Health Records of Patients With Multiple Sclerosis: Algorithm Development and Validation Study.\" *JMIR Medical Informatics* 10 (1): e25157. <https://doi.org/10.2196/25157>.\n",
    "\n",
    "#### Sharing data in healthcare is important\n",
    "\n",
    "* Seastedt KP, Schwab P, O'Brien Z, Wakida E, Herrera K, et al. (2022) Global healthcare fairness: We should be sharing more, not less, data. PLOS Digital Health 1(10): e0000102. <https://doi.org/10.1371/journal.pdig.0000102>\n",
    "* Information & Privacy Commissioner of Ontario. Dispelling the Myths Surrounding De-identification: Anonymization Remains a Strong Tool for Protecting Privacy. <https://www.ipc.on.ca/wp-content/uploads/2016/11/anonymization.pdf>\n",
    "\n",
    "    * https://www.ipc.on.ca/wp-content/uploads/2016/08/Deidentification-Guidelines-for-Structured-Data.pdf\n",
    "    * https://www.ipc.on.ca/wp-content/uploads/2019/09/2019-08-09-datashare-web.pdf\n",
    "    * https://nap.nationalacademies.org/resource/18998/ElEmamandMalin-Paper.pdf\n",
    "    \n",
    "#### Open Source De-id Tools\n",
    "\n",
    "[PhysioNet Deid](https://www.physionet.org/content/deid/1.1/):\n",
    "* Neamatullah I, Douglass M, Lehman LH, Reisner A, Villarroel M, Long WJ, Szolovits P, Moody GB, Mark RG, Clifford GD. Automated De-Identification of Free-Text Medical Records. BMC Medical Informatics and Decision Making, 2008, 8:32. doi:10.1186/1472-6947-8-32\n",
    "* Goldberger, A., Amaral, L., Glass, L., Hausdorff, J., Ivanov, P. C., Mark, R., ... & Stanley, H. E. (2000). PhysioBank, PhysioToolkit, and PhysioNet: Components of a new research resource for complex physiologic signals. Circulation [Online]. 101 (23), pp. e215–e220.\n",
    "\n",
    "[PHIlter](https://github.com/BCHSI/philter-ucsf)\n",
    "* Norgeot, B., Muenzen, K., Peterson, T.A. et al. Protected Health Information filter (Philter): accurately and securely de-identifying free-text clinical notes. npj Digit. Med. 3, 57 (2020). https://doi.org/10.1038/s41746-020-0258-y\n",
    "\n",
    "#### Named Entity Recognition\n",
    "\n",
    "* [spaCy's NER](https://spacy.io/universe/project/video-spacys-ner-model)\n",
    "* [BERT-base cased NER](https://huggingface.co/dslim/bert-base-NER)\n",
    "* Nadeau, D., & Sekine, S. (2007). A survey of named entity recognition and classification. Lingvisticae Investigationes, 30(1), 3-26.(https://nlp.cs.nyu.edu/sekine/papers/li07.pdf)\n",
    "\n",
    "#### What do you need in a de-identification tool?\n",
    "\n",
    "* Trienes, J., Trieschnigg, D., Seifert, C., & Hiemstra, D. (2020). Comparing rule-based, feature-based and deep neural methods for de-identification of dutch medical records. arXiv preprint arXiv:2001.05714. https://doi.org/10.48550/arXiv.2001.05714\n",
    "* Abdalla M, Abdalla M, Rudzicz F, Hirst G. Using word embeddings to improve the privacy of clinical notes. J Am Med Inform Assoc. 2020 Jun 1;27(6):901-907. doi: 10.1093/jamia/ocaa038. PMID: 32388549; PMCID: PMC7309261. https://www.ncbi.nlm.nih.gov/pmc/articles/PMC7309261/\n"
   ]
  }
 ],
 "metadata": {
  "kernelspec": {
   "display_name": "Python 3",
   "language": "python",
   "name": "python3"
  },
  "language_info": {
   "codemirror_mode": {
    "name": "ipython",
    "version": 3
   },
   "file_extension": ".py",
   "mimetype": "text/x-python",
   "name": "python",
   "nbconvert_exporter": "python",
   "pygments_lexer": "ipython3",
   "version": "3.8.8"
  }
 },
 "nbformat": 4,
 "nbformat_minor": 5
}
